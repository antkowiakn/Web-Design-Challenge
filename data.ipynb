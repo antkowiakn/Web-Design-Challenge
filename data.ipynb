{
 "cells": [
  {
   "cell_type": "code",
   "execution_count": 8,
   "id": "88d32f53-91c4-49f3-b954-9d27a289e494",
   "metadata": {},
   "outputs": [],
   "source": [
    "import pandas as pd\n"
   ]
  },
  {
   "cell_type": "code",
   "execution_count": 9,
   "id": "ff9a1256-e638-4de2-a822-2f275583bed9",
   "metadata": {},
   "outputs": [],
   "source": [
    "#read the csv file\n",
    "data=pd.read_csv(\"Resources/cities.csv\")"
   ]
  },
  {
   "cell_type": "code",
   "execution_count": 10,
   "id": "1c9add1d-d081-457b-a9f5-4620a08564e7",
   "metadata": {},
   "outputs": [],
   "source": [
    "#save the csv to html file\n",
    "data.to_html('data.html', index=False)"
   ]
  }
 ],
 "metadata": {
  "kernelspec": {
   "display_name": "Python 3",
   "language": "python",
   "name": "python3"
  },
  "language_info": {
   "codemirror_mode": {
    "name": "ipython",
    "version": 3
   },
   "file_extension": ".py",
   "mimetype": "text/x-python",
   "name": "python",
   "nbconvert_exporter": "python",
   "pygments_lexer": "ipython3",
   "version": "3.8.8"
  }
 },
 "nbformat": 4,
 "nbformat_minor": 5
}
